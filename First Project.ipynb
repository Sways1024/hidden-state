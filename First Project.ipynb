{
 "cells": [
  {
   "cell_type": "code",
   "execution_count": 1,
   "id": "405732bbf664b76e",
   "metadata": {
    "collapsed": false,
    "ExecuteTime": {
     "end_time": "2024-03-07T10:53:19.066326Z",
     "start_time": "2024-03-07T10:53:19.052464Z"
    }
   },
   "outputs": [],
   "source": [
    "def welcome(a_string):\n",
    "    print ('Welcome to ' + a_string + '!')\n",
    "    \n",
    "dq = 'Dataquest'\n",
    "jn = 'Jupyter Notebook'\n",
    "py = 'Python'"
   ]
  },
  {
   "cell_type": "code",
   "execution_count": 2,
   "id": "8c97cd7d38251fd8",
   "metadata": {
    "collapsed": false,
    "ExecuteTime": {
     "end_time": "2024-03-07T10:53:19.075254Z",
     "start_time": "2024-03-07T10:53:19.070699Z"
    }
   },
   "outputs": [
    {
     "name": "stdout",
     "output_type": "stream",
     "text": [
      "Welcome to Dataquest!\n",
      "Welcome to Jupyter Notebook!\n",
      "Welcome to Python!\n"
     ]
    }
   ],
   "source": [
    "welcome(dq)\n",
    "welcome(jn)\n",
    "welcome(py)"
   ]
  },
  {
   "cell_type": "markdown",
   "id": "1e4ee20407ee57d1",
   "metadata": {
    "collapsed": false
   },
   "source": [
    "# My First Data Science Project\n",
    "\n",
    "In the code below, we will:\n",
    "\n",
    "- Define a function named `add value()`, which takes in as input a parameter `x`, and returns `x + 30`\n",
    "- Assign the integer 20 to a variable named `val`\n",
    "- Assign the result of `add_value(val)` to a variable named `result`\n",
    "- Print `result`"
   ]
  },
  {
   "cell_type": "markdown",
   "id": "4d81cccf9e22e8b7",
   "metadata": {
    "collapsed": false
   },
   "source": [
    "# Opening the App Store Data\n",
    "\n",
    "In this code, we did the following:\n",
    "\n",
    "- Opened the `AppleStore.csv` file with a function called `open()` and assigned the output to a  variable named `opened_file`\n",
    "- Imported the `reader` from csv\n",
    "- Read the `opened_file` with a funtion called `reader()` and assigned the output to a variable called `read_file`\n",
    "- Used the `list()` funtion to list the `read_file` and named the  list of list `apps_data` \n",
    "- Finally, we *printed* the first 4 rows and skipped the header row"
   ]
  },
  {
   "cell_type": "code",
   "execution_count": 3,
   "id": "891eb863f28a55d9",
   "metadata": {
    "collapsed": false,
    "ExecuteTime": {
     "end_time": "2024-03-07T10:53:19.096516Z",
     "start_time": "2024-03-07T10:53:19.077067Z"
    }
   },
   "outputs": [],
   "source": [
    "opened_file = open(\"AppleStore.csv\")\n",
    "from csv import reader\n",
    "read_file = reader(opened_file)\n",
    "apps_data = list(read_file)"
   ]
  },
  {
   "cell_type": "code",
   "execution_count": 4,
   "id": "eb38468b84d36290",
   "metadata": {
    "collapsed": false,
    "ExecuteTime": {
     "end_time": "2024-03-07T10:53:19.104936Z",
     "start_time": "2024-03-07T10:53:19.098656Z"
    }
   },
   "outputs": [
    {
     "data": {
      "text/plain": "[['id',\n  'track_name',\n  'size_bytes',\n  'currency',\n  'price',\n  'rating_count_tot',\n  'rating_count_ver',\n  'user_rating',\n  'user_rating_ver',\n  'ver',\n  'cont_rating',\n  'prime_genre',\n  'sup_devices.num',\n  'ipadSc_urls.num',\n  'lang.num',\n  'vpp_lic'],\n ['284882215',\n  'Facebook',\n  '389879808',\n  'USD',\n  '0.0',\n  '2974676',\n  '212',\n  '3.5',\n  '3.5',\n  '95.0',\n  '4+',\n  'Social Networking',\n  '37',\n  '1',\n  '29',\n  '1'],\n ['389801252',\n  'Instagram',\n  '113954816',\n  'USD',\n  '0.0',\n  '2161558',\n  '1289',\n  '4.5',\n  '4.0',\n  '10.23',\n  '12+',\n  'Photo & Video',\n  '37',\n  '0',\n  '29',\n  '1'],\n ['529479190',\n  'Clash of Clans',\n  '116476928',\n  'USD',\n  '0.0',\n  '2130805',\n  '579',\n  '4.5',\n  '4.5',\n  '9.24.12',\n  '9+',\n  'Games',\n  '38',\n  '5',\n  '18',\n  '1']]"
     },
     "execution_count": 4,
     "metadata": {},
     "output_type": "execute_result"
    }
   ],
   "source": [
    "apps_data[:4]"
   ]
  },
  {
   "cell_type": "markdown",
   "id": "6b0beb650b37e10f",
   "metadata": {
    "collapsed": false
   },
   "source": [
    "The data set above contains information about more than 7000 Apple iOS mobile apps. The data was collected from the iTunes Search API by data engineer Ramanathan Perumal. Documentation for the data set can be found at [this page](https://www.kaggle.com/datasets/ramamet4/app-store-apple-data-set-10k-apps), where you'll also be able to download the data set.\n",
    "\n",
    "This is a table explaining what each column in the data set describes:"
   ]
  },
  {
   "cell_type": "markdown",
   "id": "b4c2e16aa425ec3e",
   "metadata": {
    "collapsed": false
   },
   "source": [
    "|Column Name | Description |\n",
    "|------------|------------|\n",
    "|\"id\" | App ID |\n",
    "|\"track_name\" | App Name|\n",
    "|\"size_byte\" | Size (in Bytes)|\n",
    "|\"currency\" | Currency Type|\n",
    "|\"price\" | Price Amount|"
   ]
  },
  {
   "cell_type": "code",
   "execution_count": 5,
   "id": "9245238cabc01461",
   "metadata": {
    "collapsed": false,
    "ExecuteTime": {
     "end_time": "2024-03-07T10:53:19.113409Z",
     "start_time": "2024-03-07T10:53:19.106622Z"
    }
   },
   "outputs": [
    {
     "name": "stdout",
     "output_type": "stream",
     "text": [
      ">>> def welcome(a_string):\n",
      "...     print ('Welcome to ' + a_string + '!')\n",
      "...     \n",
      "... dq = 'Dataquest'\n",
      "... jn = 'Jupyter Notebook'\n",
      "... py = 'Python'\n",
      "...\n",
      ">>> welcome(dq)\n",
      "... welcome(jn)\n",
      "... welcome(py)\n",
      "...\n",
      ">>> opened_file = open(\"AppleStore.csv\")\n",
      "... from csv import reader\n",
      "... read_file = reader(opened_file)\n",
      "... apps_data = list(read_file)\n",
      "...\n",
      ">>> apps_data[:4]\n",
      ">>> %history -p\n"
     ]
    }
   ],
   "source": [
    "%history -p"
   ]
  },
  {
   "cell_type": "code",
   "execution_count": 5,
   "id": "cb52e0765bb83575",
   "metadata": {
    "collapsed": false,
    "ExecuteTime": {
     "end_time": "2024-03-07T10:53:19.122506Z",
     "start_time": "2024-03-07T10:53:19.116430Z"
    }
   },
   "outputs": [],
   "source": []
  }
 ],
 "metadata": {
  "kernelspec": {
   "display_name": "Python 3 (ipykernel)",
   "language": "python",
   "name": "python3"
  },
  "language_info": {
   "codemirror_mode": {
    "name": "ipython",
    "version": 3
   },
   "file_extension": ".py",
   "mimetype": "text/x-python",
   "name": "python",
   "nbconvert_exporter": "python",
   "pygments_lexer": "ipython3",
   "version": "3.10.4"
  }
 },
 "nbformat": 4,
 "nbformat_minor": 5
}
